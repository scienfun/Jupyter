{
 "cells": [
  {
   "cell_type": "markdown",
   "id": "c2d8067e",
   "metadata": {},
   "source": [
    "# 초기화"
   ]
  },
  {
   "cell_type": "code",
   "execution_count": 1,
   "id": "8b9bf29b",
   "metadata": {},
   "outputs": [],
   "source": [
    "from cgitb import reset\n",
    "from ctypes.wintypes import BOOL\n",
    "from os import sep\n",
    "from pickle import TRUE\n",
    "import wave\n",
    "from dataclasses import dataclass, asdict\n",
    "\n",
    "import matplotlib.pyplot as plt\n",
    "from IPython.display import Audio\n",
    "from IPython import display\n",
    "import IPython.display as ipd\n",
    "import pyaudio\n",
    "import librosa\n",
    "import librosa.display\n",
    "import numpy as np\n",
    "from matplotlib import cm\n",
    "\n",
    "from spleeter.separator import Separator\n",
    "from spleeter.audio.adapter import AudioAdapter\n",
    "from multiprocessing import freeze_support\n",
    "import time \n",
    "import warnings\n",
    "warnings.filterwarnings('ignore')\n",
    "import numpy\n",
    "from os.path import dirname, join as pjoin\n",
    "from scipy.io import wavfile\n",
    "import scipy.io\n",
    "from scipy.io.wavfile import write"
   ]
  },
  {
   "cell_type": "code",
   "execution_count": 10,
   "id": "cae8b2a2",
   "metadata": {},
   "outputs": [],
   "source": [
    "CHUNK = 1024             # samples per frame\n",
    "FORMAT = pyaudio.paInt16    # audio format (bytes per sample?)\n",
    "CHANNELS = 2                 # single channel for microphone\n",
    "RATE = 44100                 # samples per second\n",
    "RECORD_SECONDS = 5\n",
    "WAVE_OUTPUT_FILENAME = \"output.wav\""
   ]
  },
  {
   "cell_type": "code",
   "execution_count": 21,
   "id": "fe84d63e",
   "metadata": {},
   "outputs": [],
   "source": [
    "from tkinter import *\n",
    "from tkinter import messagebox\n",
    "import tkinter\n",
    "from tkinter.tix import COLUMN\n",
    "from matplotlib.backends.backend_tkagg import FigureCanvasTkAgg\n",
    "from matplotlib.figure import Figure\n",
    "frames = []\n",
    "\n",
    "class Tester_GUI(tkinter.Tk):\n",
    "  \n",
    "    def __init__(self,parent):\n",
    "        #play button\n",
    "        tkinter.Tk.__init__(self, parent)\n",
    "        self.parent = parent\n",
    "        self.init_GUI()\n",
    "        self.init_plot()\n",
    "        self.p = pyaudio.PyAudio()\n",
    "        self.frames = []\n",
    "        self.is_recording = 0\n",
    "        self.stream = None\n",
    "        self.data_list = []\n",
    "        self.vocal_list = np.zeros([CHUNK,CHANNELS])\n",
    "        self.time_list = []\n",
    "        self.audio_data = np.zeros([CHUNK,CHANNELS])\n",
    "        self.norm_audio_data = None\n",
    "        self.separator = Separator(f\"spleeter:2stems\") # 새로만든거\n",
    "        \n",
    "    def init_GUI(self):\n",
    "        self.grid()\n",
    "        self.title('spleeter demo')\n",
    "        self.btn = tkinter.Button(self, text=\"Play\", command=self.okClick)\n",
    "        self.btn.grid(column=0, row=0)\n",
    "        \n",
    "        # vocal_slider\n",
    "        self.lbl = tkinter.Label(self, text=\"Vocal\")\n",
    "        self.lbl.grid(column=0, row=1)\n",
    "        self.w = tkinter.Scale(self, from_=0, to=100, orient=HORIZONTAL)\n",
    "        self.w.grid(column=1, row=1)\n",
    "\n",
    "        # BGM_slider\n",
    "        self.lbl2 = tkinter.Label(self, text=\"BGM\")\n",
    "        self.lbl2.grid(column=0, row=2)\n",
    "        self.w2 = tkinter.Scale(self, from_=0, to=100, orient=HORIZONTAL)\n",
    "        self.w2.grid(column=1, row=2)\n",
    "            \n",
    "    def init_plot(self):\n",
    "        self.fig, ax1 = plt.subplots(1, figsize=(6, 6))\n",
    "        x = np.arange(0, CHUNK, 1)\n",
    "        self.line, = ax1.plot(x, np.zeros(CHUNK,int), '-', lw=2)\n",
    "        ax1.set_title('AUDIO WAVEFORM')\n",
    "        ax1.set_xlabel('samples')\n",
    "        ax1.set_ylabel('volume')\n",
    "        ax1.set_ylim(0, 1)\n",
    "        ax1.set_xlim(0, CHUNK)\n",
    "        plt.setp(ax1, xticks=[0, CHUNK/2 ,CHUNK], yticks=[0, 0.5, 1])\n",
    "        self.wave_canvas = FigureCanvasTkAgg(self.fig, master=self) #\n",
    "        self.wave_canvas.get_tk_widget().grid(column=0, row=3, columnspan=2)  \n",
    "    \n",
    "\n",
    "                    \n",
    "    def okClick(self):\n",
    "        # y, sr = librosa.load('music.mp3')\n",
    "        self.stream = self.p.open(format=FORMAT,\n",
    "                                channels=CHANNELS,\n",
    "                                rate=RATE,\n",
    "                                input=True,\n",
    "                                output=False,\n",
    "                                frames_per_buffer=CHUNK,\n",
    "                                input_device_index = 22, ## HDMI 뽑고 2로 설정, HDMI 물리면 웅웅거리는 소리 들림\n",
    "                                stream_callback = self.get_callback())\n",
    "        # recording flipping\n",
    "        if self.is_recording :\n",
    "            self.stream.stop_stream()\n",
    "            self.is_recording = 0 \n",
    "            self.audio_data = numpy.array(self.data_list)\n",
    "#             write(\"example.wav\", RATE, self.audio_data)\n",
    "#             write(\"v.wav\", RATE, self.vocal_list)\n",
    "            filename = \"1.wav\"\n",
    "            waveFile = wave.open(filename, 'wb')\n",
    "            waveFile.setnchannels(CHANNELS)\n",
    "            waveFile.setsampwidth(2)\n",
    "            waveFile.setframerate(RATE)\n",
    "            waveFile.writeframes(b''.join(self.data_list))\n",
    "            waveFile.close()\n",
    "        else :\n",
    "            self.stream.start_stream()\n",
    "            self.is_recording = 1\n",
    "        \n",
    "    def get_callback(self):\n",
    "        def callback(in_data, frame_count, time_info, status):\n",
    "            if self.is_recording :  \n",
    "#                data = np.frombuffer(in_data, dtype=np.float32)\n",
    "               self.data_list.append(in_data)\n",
    "\n",
    "            return (in_data, pyaudio.paContinue)\n",
    "        return callback      "
   ]
  },
  {
   "cell_type": "code",
   "execution_count": 23,
   "id": "346f36fd",
   "metadata": {
    "scrolled": true
   },
   "outputs": [
    {
     "data": {
      "image/png": "[encoded data removed]",
      "text/plain": [
       "<Figure size 432x432 with 1 Axes>"
      ]
     },
     "metadata": {
      "needs_background": "light"
     },
     "output_type": "display_data"
    }
   ],
   "source": [
    "if __name__ == \"__main__\":\n",
    "    app = Tester_GUI(None)\n",
    "    app.title = \"test\"\n",
    "    app.mainloop()"
   ]
  },
  {
   "cell_type": "code",
   "execution_count": null,
   "id": "2c5134ee",
   "metadata": {},
   "outputs": [],
   "source": []
  },
  {
   "cell_type": "code",
   "execution_count": null,
   "id": "5418f578",
   "metadata": {},
   "outputs": [],
   "source": [
    "j=22\n",
    "info = app.p.get_device_info_by_index(j)\n",
    "print(\"%s \\n\" % (info))\n",
    "\n",
    "for i in range(0, p.get_device_count()):\n",
    "    info = app.p.get_device_info_by_index(i)\n",
    "    print(str(info[\"index\"])+\": \\t %s \\n \\t %s \\n\" % (info[\"name\"], app.p.get_host_api_info_by_index(info[\"hostApi\"])[\"name\"]))\n"
   ]
  },
  {
   "cell_type": "code",
   "execution_count": 70,
   "id": "5240063f",
   "metadata": {},
   "outputs": [
    {
     "data": {
      "text/plain": [
       "{'index': 1,\n",
       " 'structVersion': 2,\n",
       " 'name': 'VoiceMeeter Output(VB-Audio Voi',\n",
       " 'hostApi': 0,\n",
       " 'maxInputChannels': 8,\n",
       " 'maxOutputChannels': 0,\n",
       " 'defaultLowInputLatency': 0.09,\n",
       " 'defaultLowOutputLatency': 0.09,\n",
       " 'defaultHighInputLatency': 0.18,\n",
       " 'defaultHighOutputLatency': 0.18,\n",
       " 'defaultSampleRate': 44100.0}"
      ]
     },
     "execution_count": 70,
     "metadata": {},
     "output_type": "execute_result"
    }
   ],
   "source": [
    "app.p.get_default_input_device_info()"
   ]
  },
  {
   "cell_type": "code",
   "execution_count": 64,
   "id": "06c0ad36",
   "metadata": {},
   "outputs": [],
   "source": [
    "app.stream = app.p.open(format=FORMAT,\n",
    "                                channels=CHANNELS,\n",
    "                                rate=RATE,\n",
    "                                input=True,\n",
    "                                output=False,\n",
    "                                frames_per_buffer = CHUNK,\n",
    "                                input_device_index = 2, ## HDMI 뽑고 2로 설정, HDMI 물리면 웅웅거리는 소리 들림\n",
    "                       )\n"
   ]
  },
  {
   "cell_type": "code",
   "execution_count": 69,
   "id": "70ce843c",
   "metadata": {},
   "outputs": [
    {
     "name": "stdout",
     "output_type": "stream",
     "text": [
      "{'index': 7, 'structVersion': 2, 'name': 'LG ULTRAFINE(5- HD Audio Driver', 'hostApi': 0, 'maxInputChannels': 0, 'maxOutputChannels': 2, 'defaultLowInputLatency': 0.09, 'defaultLowOutputLatency': 0.09, 'defaultHighInputLatency': 0.18, 'defaultHighOutputLatency': 0.18, 'defaultSampleRate': 44100.0} \n",
      "\n",
      "0: \t Microsoft Sound Mapper - Input \n",
      " \t MME \n",
      "\n",
      "1: \t VoiceMeeter Output(VB-Audio Voi \n",
      " \t MME \n",
      "\n",
      "2: \t 마이크 배열(디지털 마이크용 인텔® 스마트 사운드 기술) \n",
      " \t MME \n",
      "\n",
      "3: \t 스테레오 믹스(Realtek(R) Audio) \n",
      " \t MME \n",
      "\n",
      "4: \t Microsoft Sound Mapper - Output \n",
      " \t MME \n",
      "\n",
      "5: \t VoiceMeeter Input(VB-Audio Voic \n",
      " \t MME \n",
      "\n",
      "6: \t 스피커(Realtek(R) Audio) \n",
      " \t MME \n",
      "\n",
      "7: \t LG ULTRAFINE(5- HD Audio Driver \n",
      " \t MME \n",
      "\n",
      "8: \t 주 사운드 캡처 드라이버 \n",
      " \t Windows DirectSound \n",
      "\n",
      "9: \t VoiceMeeter Output(VB-Audio VoiceMeeter VAIO) \n",
      " \t Windows DirectSound \n",
      "\n",
      "10: \t 마이크 배열(디지털 마이크용 인텔® 스마트 사운드 기술) \n",
      " \t Windows DirectSound \n",
      "\n",
      "11: \t 스테레오 믹스(Realtek(R) Audio) \n",
      " \t Windows DirectSound \n",
      "\n",
      "12: \t 주 사운드 드라이버 \n",
      " \t Windows DirectSound \n",
      "\n",
      "13: \t VoiceMeeter Input(VB-Audio VoiceMeeter VAIO) \n",
      " \t Windows DirectSound \n",
      "\n",
      "14: \t 스피커(Realtek(R) Audio) \n",
      " \t Windows DirectSound \n",
      "\n",
      "15: \t LG ULTRAFINE(5- HD Audio Driver for Display Audio) \n",
      " \t Windows DirectSound \n",
      "\n",
      "16: \t Voicemeeter Virtual ASIO \n",
      " \t ASIO \n",
      "\n",
      "17: \t 스피커(Realtek(R) Audio) \n",
      " \t Windows WASAPI \n",
      "\n",
      "18: \t LG ULTRAFINE(5- HD Audio Driver for Display Audio) \n",
      " \t Windows WASAPI \n",
      "\n",
      "19: \t VoiceMeeter Input(VB-Audio VoiceMeeter VAIO) \n",
      " \t Windows WASAPI \n",
      "\n",
      "20: \t 마이크 배열(디지털 마이크용 인텔® 스마트 사운드 기술) \n",
      " \t Windows WASAPI \n",
      "\n",
      "21: \t 스테레오 믹스(Realtek(R) Audio) \n",
      " \t Windows WASAPI \n",
      "\n",
      "22: \t VoiceMeeter Output(VB-Audio VoiceMeeter VAIO) \n",
      " \t Windows WASAPI \n",
      "\n",
      "23: \t 마이크 배열 1 () \n",
      " \t Windows WDM-KS \n",
      "\n",
      "24: \t 마이크 배열 2 () \n",
      " \t Windows WDM-KS \n",
      "\n",
      "25: \t 마이크 배열 3 () \n",
      " \t Windows WDM-KS \n",
      "\n",
      "26: \t 스테레오 믹스 (Realtek HD Audio Stereo input) \n",
      " \t Windows WDM-KS \n",
      "\n",
      "27: \t Speakers 1 (Realtek HD Audio output with SST) \n",
      " \t Windows WDM-KS \n",
      "\n",
      "28: \t Speakers 2 (Realtek HD Audio output with SST) \n",
      " \t Windows WDM-KS \n",
      "\n",
      "29: \t PC 스피커 (Realtek HD Audio output with SST) \n",
      " \t Windows WDM-KS \n",
      "\n",
      "30: \t Headphones 1 (Realtek HD Audio 2nd output with SST) \n",
      " \t Windows WDM-KS \n",
      "\n",
      "31: \t Headphones 2 (Realtek HD Audio 2nd output with SST) \n",
      " \t Windows WDM-KS \n",
      "\n",
      "32: \t PC 스피커 (Realtek HD Audio 2nd output with SST) \n",
      " \t Windows WDM-KS \n",
      "\n",
      "33: \t 마이크 (Realtek HD Audio Mic input) \n",
      " \t Windows WDM-KS \n",
      "\n",
      "34: \t LG ULTRAFINE (ACX HD Audio Speaker) \n",
      " \t Windows WDM-KS \n",
      "\n",
      "35: \t 헤드폰 () \n",
      " \t Windows WDM-KS \n",
      "\n",
      "36: \t 머리에 거는 수화기 (@System32\\drivers\\bthhfenum.sys,#2;%1 Hands-Free AG Audio%0\r\n",
      ";(LG HBS-TFN6)) \n",
      " \t Windows WDM-KS \n",
      "\n",
      "37: \t 머리에 거는 수화기 (@System32\\drivers\\bthhfenum.sys,#2;%1 Hands-Free AG Audio%0\r\n",
      ";(LG HBS-TFN6)) \n",
      " \t Windows WDM-KS \n",
      "\n",
      "38: \t VoiceMeeter Output (VoiceMeeter vaio) \n",
      " \t Windows WDM-KS \n",
      "\n",
      "39: \t Speakers (VoiceMeeter vaio) \n",
      " \t Windows WDM-KS \n",
      "\n"
     ]
    }
   ],
   "source": [
    "j=7\n",
    "info = app.p.get_device_info_by_index(j)\n",
    "print(\"%s \\n\" % (info))\n",
    "\n",
    "for i in range(0, p.get_device_count()):\n",
    "    info = app.p.get_device_info_by_index(i)\n",
    "    print(str(info[\"index\"])+\": \\t %s \\n \\t %s \\n\" % (info[\"name\"], app.p.get_host_api_info_by_index(info[\"hostApi\"])[\"name\"]))\n"
   ]
  },
  {
   "cell_type": "code",
   "execution_count": 34,
   "id": "93dbcc26",
   "metadata": {},
   "outputs": [
    {
     "name": "stdout",
     "output_type": "stream",
     "text": [
      "INFO:tensorflow:Apply unet for vocals_spectrogram\n",
      "INFO:tensorflow:Apply unet for accompaniment_spectrogram\n",
      "INFO:tensorflow:Restoring parameters from pretrained_models\\2stems\\model\n",
      "2.0081\n"
     ]
    }
   ],
   "source": [
    "x_list = numpy.array(app.data_list)\n",
    "x_list.shape\n",
    "separator = Separator(f\"spleeter:2stems\")\n",
    "# audio_loader = AudioAdapter.default()\n",
    "# waveform, _ = audio_loader.load('piano.wav', sample_rate=RATE)\n",
    "m_ticks = time.time() \n",
    "prediction = separator.separate(x_list)\n",
    "n_ticks = time.time()-m_ticks\n",
    "print(\"%.4f\" %n_ticks)\n",
    "write(\"v.wav\", RATE, prediction['vocals'])\n",
    "write(\"a.wav\", RATE, prediction['accompaniment'])"
   ]
  },
  {
   "cell_type": "code",
   "execution_count": 92,
   "id": "b99c2860",
   "metadata": {},
   "outputs": [],
   "source": [
    "write(\"v.wav\", RATE, prediction['vocals'])\n",
    "write(\"a.wav\", RATE, prediction['accompaniment'])"
   ]
  },
  {
   "cell_type": "code",
   "execution_count": 101,
   "id": "7d3e274e",
   "metadata": {},
   "outputs": [],
   "source": [
    "cc = np.concatenate((prediction['vocals'],prediction['accompaniment']),axis=0)"
   ]
  },
  {
   "cell_type": "code",
   "execution_count": 36,
   "id": "627e4a57",
   "metadata": {},
   "outputs": [
    {
     "data": {
      "text/plain": [
       "(15360, 2)"
      ]
     },
     "execution_count": 36,
     "metadata": {},
     "output_type": "execute_result"
    }
   ],
   "source": [
    "x_list.shape"
   ]
  },
  {
   "cell_type": "code",
   "execution_count": 40,
   "id": "39735ba0",
   "metadata": {},
   "outputs": [
    {
     "data": {
      "text/plain": [
       "(15360, 2)"
      ]
     },
     "execution_count": 40,
     "metadata": {},
     "output_type": "execute_result"
    }
   ],
   "source": [
    "x_list.shape"
   ]
  },
  {
   "cell_type": "code",
   "execution_count": 50,
   "id": "c6ddcef5",
   "metadata": {},
   "outputs": [
    {
     "ename": "error",
     "evalue": "argument out of range",
     "output_type": "error",
     "traceback": [
      "\u001b[1;31m---------------------------------------------------------------------------\u001b[0m",
      "\u001b[1;31merror\u001b[0m                                     Traceback (most recent call last)",
      "\u001b[1;32m~\\AppData\\Local\\Temp/ipykernel_18052/2656696393.py\u001b[0m in \u001b[0;36m<module>\u001b[1;34m\u001b[0m\n\u001b[0;32m      4\u001b[0m \u001b[0maudio_data\u001b[0m \u001b[1;33m=\u001b[0m \u001b[0mnp\u001b[0m\u001b[1;33m.\u001b[0m\u001b[0mzeros\u001b[0m\u001b[1;33m(\u001b[0m\u001b[1;33m[\u001b[0m\u001b[0mchannels\u001b[0m\u001b[1;33m,\u001b[0m \u001b[1;36m15360\u001b[0m\u001b[1;33m]\u001b[0m\u001b[1;33m)\u001b[0m\u001b[1;33m\u001b[0m\u001b[1;33m\u001b[0m\u001b[0m\n\u001b[0;32m      5\u001b[0m \u001b[0maudio_data\u001b[0m\u001b[1;33m[\u001b[0m\u001b[1;33m:\u001b[0m\u001b[1;33m,\u001b[0m \u001b[1;33m:\u001b[0m\u001b[1;33m]\u001b[0m \u001b[1;33m=\u001b[0m \u001b[0mdata\u001b[0m\u001b[1;33m\u001b[0m\u001b[1;33m\u001b[0m\u001b[0m\n\u001b[1;32m----> 6\u001b[1;33m \u001b[0mwrite\u001b[0m\u001b[1;33m(\u001b[0m\u001b[1;34m\"v.wav\"\u001b[0m\u001b[1;33m,\u001b[0m \u001b[0mRATE\u001b[0m\u001b[1;33m,\u001b[0m \u001b[0maudio_data\u001b[0m\u001b[1;33m)\u001b[0m\u001b[1;33m\u001b[0m\u001b[1;33m\u001b[0m\u001b[0m\n\u001b[0m",
      "\u001b[1;32m~\\AppData\\Roaming\\Python\\Python39\\site-packages\\scipy\\io\\wavfile.py\u001b[0m in \u001b[0;36mwrite\u001b[1;34m(filename, rate, data)\u001b[0m\n\u001b[0;32m    794\u001b[0m         \u001b[0mblock_align\u001b[0m \u001b[1;33m=\u001b[0m \u001b[0mchannels\u001b[0m \u001b[1;33m*\u001b[0m \u001b[1;33m(\u001b[0m\u001b[0mbit_depth\u001b[0m \u001b[1;33m//\u001b[0m \u001b[1;36m8\u001b[0m\u001b[1;33m)\u001b[0m\u001b[1;33m\u001b[0m\u001b[1;33m\u001b[0m\u001b[0m\n\u001b[0;32m    795\u001b[0m \u001b[1;33m\u001b[0m\u001b[0m\n\u001b[1;32m--> 796\u001b[1;33m         fmt_chunk_data = struct.pack('<HHIIHH', format_tag, channels, fs,\n\u001b[0m\u001b[0;32m    797\u001b[0m                                      bytes_per_second, block_align, bit_depth)\n\u001b[0;32m    798\u001b[0m         \u001b[1;32mif\u001b[0m \u001b[1;32mnot\u001b[0m \u001b[1;33m(\u001b[0m\u001b[0mdkind\u001b[0m \u001b[1;33m==\u001b[0m \u001b[1;34m'i'\u001b[0m \u001b[1;32mor\u001b[0m \u001b[0mdkind\u001b[0m \u001b[1;33m==\u001b[0m \u001b[1;34m'u'\u001b[0m\u001b[1;33m)\u001b[0m\u001b[1;33m:\u001b[0m\u001b[1;33m\u001b[0m\u001b[1;33m\u001b[0m\u001b[0m\n",
      "\u001b[1;31merror\u001b[0m: argument out of range"
     ]
    }
   ],
   "source": [
    "data = np.reshape(x_list, (15360, channels))\n",
    "data = [data[:, i]\n",
    "        for i in range(channels)]\n",
    "audio_data = np.zeros([channels, 15360])\n",
    "audio_data[:, :] = data\n",
    "write(\"v.wav\", RATE, audio_data)"
   ]
  },
  {
   "cell_type": "code",
   "execution_count": 49,
   "id": "f04d975d",
   "metadata": {},
   "outputs": [
    {
     "ename": "NameError",
     "evalue": "name 'audio_Data' is not defined",
     "output_type": "error",
     "traceback": [
      "\u001b[1;31m---------------------------------------------------------------------------\u001b[0m",
      "\u001b[1;31mNameError\u001b[0m                                 Traceback (most recent call last)",
      "\u001b[1;32m~\\AppData\\Local\\Temp/ipykernel_18052/1540236291.py\u001b[0m in \u001b[0;36m<module>\u001b[1;34m\u001b[0m\n\u001b[1;32m----> 1\u001b[1;33m \u001b[0mwrite\u001b[0m\u001b[1;33m(\u001b[0m\u001b[1;34m\"v.wav\"\u001b[0m\u001b[1;33m,\u001b[0m \u001b[0mRATE\u001b[0m\u001b[1;33m,\u001b[0m \u001b[0maudio_Data\u001b[0m\u001b[1;33m)\u001b[0m\u001b[1;33m\u001b[0m\u001b[1;33m\u001b[0m\u001b[0m\n\u001b[0m",
      "\u001b[1;31mNameError\u001b[0m: name 'audio_Data' is not defined"
     ]
    }
   ],
   "source": []
  },
  {
   "cell_type": "code",
   "execution_count": 105,
   "id": "33a32aae",
   "metadata": {},
   "outputs": [
    {
     "data": {
      "text/plain": [
       "(610304, 2)"
      ]
     },
     "execution_count": 105,
     "metadata": {},
     "output_type": "execute_result"
    }
   ],
   "source": [
    "prediction['vocals'].shape"
   ]
  },
  {
   "cell_type": "code",
   "execution_count": 103,
   "id": "c3201820",
   "metadata": {},
   "outputs": [
    {
     "data": {
      "text/plain": [
       "(1220608, 2)"
      ]
     },
     "execution_count": 103,
     "metadata": {},
     "output_type": "execute_result"
    }
   ],
   "source": [
    "cc.shape"
   ]
  },
  {
   "cell_type": "code",
   "execution_count": 11,
   "id": "185f9ea6",
   "metadata": {},
   "outputs": [
    {
     "name": "stdout",
     "output_type": "stream",
     "text": [
      "{'index': 22, 'structVersion': 2, 'name': 'VoiceMeeter Output(VB-Audio VoiceMeeter VAIO)', 'hostApi': 3, 'maxInputChannels': 2, 'maxOutputChannels': 0, 'defaultLowInputLatency': 0.003, 'defaultLowOutputLatency': 0.0, 'defaultHighInputLatency': 0.01, 'defaultHighOutputLatency': 0.0, 'defaultSampleRate': 44100.0} \n",
      "\n",
      "0: \t Microsoft Sound Mapper - Input \n",
      " \t MME \n",
      "\n",
      "1: \t VoiceMeeter Output(VB-Audio Voi \n",
      " \t MME \n",
      "\n",
      "2: \t 마이크 배열(디지털 마이크용 인텔® 스마트 사운드 기술) \n",
      " \t MME \n",
      "\n",
      "3: \t 스테레오 믹스(Realtek(R) Audio) \n",
      " \t MME \n",
      "\n",
      "4: \t Microsoft Sound Mapper - Output \n",
      " \t MME \n",
      "\n",
      "5: \t VoiceMeeter Input(VB-Audio Voic \n",
      " \t MME \n",
      "\n",
      "6: \t 스피커(Realtek(R) Audio) \n",
      " \t MME \n",
      "\n",
      "7: \t LG ULTRAFINE(5- HD Audio Driver \n",
      " \t MME \n",
      "\n",
      "8: \t 주 사운드 캡처 드라이버 \n",
      " \t Windows DirectSound \n",
      "\n",
      "9: \t VoiceMeeter Output(VB-Audio VoiceMeeter VAIO) \n",
      " \t Windows DirectSound \n",
      "\n",
      "10: \t 마이크 배열(디지털 마이크용 인텔® 스마트 사운드 기술) \n",
      " \t Windows DirectSound \n",
      "\n",
      "11: \t 스테레오 믹스(Realtek(R) Audio) \n",
      " \t Windows DirectSound \n",
      "\n",
      "12: \t 주 사운드 드라이버 \n",
      " \t Windows DirectSound \n",
      "\n",
      "13: \t VoiceMeeter Input(VB-Audio VoiceMeeter VAIO) \n",
      " \t Windows DirectSound \n",
      "\n",
      "14: \t 스피커(Realtek(R) Audio) \n",
      " \t Windows DirectSound \n",
      "\n",
      "15: \t LG ULTRAFINE(5- HD Audio Driver for Display Audio) \n",
      " \t Windows DirectSound \n",
      "\n",
      "16: \t Voicemeeter Virtual ASIO \n",
      " \t ASIO \n",
      "\n",
      "17: \t 스피커(Realtek(R) Audio) \n",
      " \t Windows WASAPI \n",
      "\n",
      "18: \t LG ULTRAFINE(5- HD Audio Driver for Display Audio) \n",
      " \t Windows WASAPI \n",
      "\n",
      "19: \t VoiceMeeter Input(VB-Audio VoiceMeeter VAIO) \n",
      " \t Windows WASAPI \n",
      "\n",
      "20: \t 마이크 배열(디지털 마이크용 인텔® 스마트 사운드 기술) \n",
      " \t Windows WASAPI \n",
      "\n",
      "21: \t 스테레오 믹스(Realtek(R) Audio) \n",
      " \t Windows WASAPI \n",
      "\n",
      "22: \t VoiceMeeter Output(VB-Audio VoiceMeeter VAIO) \n",
      " \t Windows WASAPI \n",
      "\n",
      "23: \t 마이크 배열 1 () \n",
      " \t Windows WDM-KS \n",
      "\n",
      "24: \t 마이크 배열 2 () \n",
      " \t Windows WDM-KS \n",
      "\n",
      "25: \t 마이크 배열 3 () \n",
      " \t Windows WDM-KS \n",
      "\n",
      "26: \t 스테레오 믹스 (Realtek HD Audio Stereo input) \n",
      " \t Windows WDM-KS \n",
      "\n",
      "27: \t Speakers 1 (Realtek HD Audio output with SST) \n",
      " \t Windows WDM-KS \n",
      "\n",
      "28: \t Speakers 2 (Realtek HD Audio output with SST) \n",
      " \t Windows WDM-KS \n",
      "\n",
      "29: \t PC 스피커 (Realtek HD Audio output with SST) \n",
      " \t Windows WDM-KS \n",
      "\n",
      "30: \t Headphones 1 (Realtek HD Audio 2nd output with SST) \n",
      " \t Windows WDM-KS \n",
      "\n",
      "31: \t Headphones 2 (Realtek HD Audio 2nd output with SST) \n",
      " \t Windows WDM-KS \n",
      "\n",
      "32: \t PC 스피커 (Realtek HD Audio 2nd output with SST) \n",
      " \t Windows WDM-KS \n",
      "\n",
      "33: \t 마이크 (Realtek HD Audio Mic input) \n",
      " \t Windows WDM-KS \n",
      "\n",
      "34: \t LG ULTRAFINE (ACX HD Audio Speaker) \n",
      " \t Windows WDM-KS \n",
      "\n",
      "35: \t 헤드폰 () \n",
      " \t Windows WDM-KS \n",
      "\n",
      "36: \t 머리에 거는 수화기 (@System32\\drivers\\bthhfenum.sys,#2;%1 Hands-Free AG Audio%0\r\n",
      ";(LG HBS-TFN6)) \n",
      " \t Windows WDM-KS \n",
      "\n",
      "37: \t 머리에 거는 수화기 (@System32\\drivers\\bthhfenum.sys,#2;%1 Hands-Free AG Audio%0\r\n",
      ";(LG HBS-TFN6)) \n",
      " \t Windows WDM-KS \n",
      "\n",
      "38: \t VoiceMeeter Output (VoiceMeeter vaio) \n",
      " \t Windows WDM-KS \n",
      "\n",
      "39: \t Speakers (VoiceMeeter vaio) \n",
      " \t Windows WDM-KS \n",
      "\n"
     ]
    }
   ],
   "source": [
    "j=22\n",
    "info = p.get_device_info_by_index(j)\n",
    "print(\"%s \\n\" % (info))\n",
    "\n",
    "for i in range(0, p.get_device_count()):\n",
    "    info = p.get_device_info_by_index(i)\n",
    "    print(str(info[\"index\"])+\": \\t %s \\n \\t %s \\n\" % (info[\"name\"], p.get_host_api_info_by_index(info[\"hostApi\"])[\"name\"]))\n"
   ]
  },
  {
   "cell_type": "code",
   "execution_count": 20,
   "id": "5e72cd7d",
   "metadata": {},
   "outputs": [
    {
     "data": {
      "text/plain": [
       "{'index': 1,\n",
       " 'structVersion': 2,\n",
       " 'name': 'VoiceMeeter Output(VB-Audio Voi',\n",
       " 'hostApi': 0,\n",
       " 'maxInputChannels': 8,\n",
       " 'maxOutputChannels': 0,\n",
       " 'defaultLowInputLatency': 0.09,\n",
       " 'defaultLowOutputLatency': 0.09,\n",
       " 'defaultHighInputLatency': 0.18,\n",
       " 'defaultHighOutputLatency': 0.18,\n",
       " 'defaultSampleRate': 44100.0}"
      ]
     },
     "execution_count": 20,
     "metadata": {},
     "output_type": "execute_result"
    }
   ],
   "source": [
    "info"
   ]
  },
  {
   "cell_type": "code",
   "execution_count": 23,
   "id": "bfc6ce37",
   "metadata": {
    "scrolled": true
   },
   "outputs": [
    {
     "name": "stdout",
     "output_type": "stream",
     "text": [
      "{'index': 1, 'structVersion': 2, 'name': 'VoiceMeeter Output(VB-Audio Voi', 'hostApi': 0, 'maxInputChannels': 8, 'maxOutputChannels': 0, 'defaultLowInputLatency': 0.09, 'defaultLowOutputLatency': 0.09, 'defaultHighInputLatency': 0.18, 'defaultHighOutputLatency': 0.18, 'defaultSampleRate': 44100.0} \n",
      "\n"
     ]
    }
   ],
   "source": []
  },
  {
   "cell_type": "code",
   "execution_count": 9,
   "id": "12210a5c",
   "metadata": {},
   "outputs": [
    {
     "ename": "AttributeError",
     "evalue": "'list' object has no attribute 'dtype'",
     "output_type": "error",
     "traceback": [
      "\u001b[1;31m---------------------------------------------------------------------------\u001b[0m",
      "\u001b[1;31mAttributeError\u001b[0m                            Traceback (most recent call last)",
      "\u001b[1;32m~\\AppData\\Local\\Temp/ipykernel_18052/1347178238.py\u001b[0m in \u001b[0;36m<module>\u001b[1;34m\u001b[0m\n\u001b[0;32m      9\u001b[0m \u001b[1;33m\u001b[0m\u001b[0m\n\u001b[0;32m     10\u001b[0m \u001b[0mrecorded_frames\u001b[0m\u001b[1;33m.\u001b[0m\u001b[0mappend\u001b[0m\u001b[1;33m(\u001b[0m\u001b[0mstream\u001b[0m\u001b[1;33m.\u001b[0m\u001b[0mread\u001b[0m\u001b[1;33m(\u001b[0m\u001b[0mCHUNK\u001b[0m\u001b[1;33m)\u001b[0m\u001b[1;33m)\u001b[0m\u001b[1;33m\u001b[0m\u001b[1;33m\u001b[0m\u001b[0m\n\u001b[1;32m---> 11\u001b[1;33m \u001b[0mwrite\u001b[0m\u001b[1;33m(\u001b[0m\u001b[1;34m\"test.wav\"\u001b[0m\u001b[1;33m,\u001b[0m \u001b[0mRATE\u001b[0m\u001b[1;33m,\u001b[0m \u001b[0mrecorded_frames\u001b[0m\u001b[1;33m)\u001b[0m\u001b[1;33m\u001b[0m\u001b[1;33m\u001b[0m\u001b[0m\n\u001b[0m",
      "\u001b[1;32m~\\AppData\\Roaming\\Python\\Python39\\site-packages\\scipy\\io\\wavfile.py\u001b[0m in \u001b[0;36mwrite\u001b[1;34m(filename, rate, data)\u001b[0m\n\u001b[0;32m    769\u001b[0m \u001b[1;33m\u001b[0m\u001b[0m\n\u001b[0;32m    770\u001b[0m     \u001b[1;32mtry\u001b[0m\u001b[1;33m:\u001b[0m\u001b[1;33m\u001b[0m\u001b[1;33m\u001b[0m\u001b[0m\n\u001b[1;32m--> 771\u001b[1;33m         \u001b[0mdkind\u001b[0m \u001b[1;33m=\u001b[0m \u001b[0mdata\u001b[0m\u001b[1;33m.\u001b[0m\u001b[0mdtype\u001b[0m\u001b[1;33m.\u001b[0m\u001b[0mkind\u001b[0m\u001b[1;33m\u001b[0m\u001b[1;33m\u001b[0m\u001b[0m\n\u001b[0m\u001b[0;32m    772\u001b[0m         if not (dkind == 'i' or dkind == 'f' or (dkind == 'u' and\n\u001b[0;32m    773\u001b[0m                                                  data.dtype.itemsize == 1)):\n",
      "\u001b[1;31mAttributeError\u001b[0m: 'list' object has no attribute 'dtype'"
     ]
    }
   ],
   "source": [
    "stream = p.open(format=FORMAT,\n",
    "                channels=CHANNELS,\n",
    "                rate=RATE,\n",
    "                input=True,\n",
    "                output=False,\n",
    "                frames_per_buffer=CHUNK,\n",
    "                input_device_index = 1, ## HDMI 뽑고 2로 설정, HDMI 물리면 웅웅거리는 소리 들림\n",
    "                )\n",
    "\n",
    "recorded_frames.append(stream.read(CHUNK))\n",
    "write(\"test.wav\", RATE, recorded_frames)"
   ]
  },
  {
   "cell_type": "code",
   "execution_count": null,
   "id": "37c0f5f5",
   "metadata": {},
   "outputs": [],
   "source": [
    "S_full, phase = librosa.magphase(librosa.stft(prediction['vocals']))\n",
    "img = librosa.display.specshow(librosa.amplitude_to_db(S_full, ref=np.max),\n",
    "                             y_axis='log', x_axis='time', sr=sr, ax=ax)\n",
    "fig.colorbar(img, ax=ax)  \n",
    "    \n",
    "# ipd.Audio('short_one.wav') # load a local WAV file "
   ]
  },
  {
   "cell_type": "code",
   "execution_count": 74,
   "id": "514ac4f2",
   "metadata": {
    "scrolled": false
   },
   "outputs": [
    {
     "name": "stdout",
     "output_type": "stream",
     "text": [
      "INFO:tensorflow:Apply unet for vocals_spectrogram\n",
      "WARNING:tensorflow:From C:\\Users\\scien\\AppData\\Roaming\\Python\\Python39\\site-packages\\tensorflow\\python\\keras\\layers\\normalization.py:534: _colocate_with (from tensorflow.python.framework.ops) is deprecated and will be removed in a future version.\n",
      "Instructions for updating:\n",
      "Colocations handled automatically by placer.\n",
      "INFO:tensorflow:Apply unet for accompaniment_spectrogram\n",
      "INFO:tensorflow:Restoring parameters from pretrained_models\\2stems\\model\n",
      "12.3721\n"
     ]
    },
    {
     "ename": "ParameterError",
     "evalue": "Invalid shape for monophonic audio: ndim=2, shape=(11881472, 2)",
     "output_type": "error",
     "traceback": [
      "\u001b[1;31m---------------------------------------------------------------------------\u001b[0m",
      "\u001b[1;31mParameterError\u001b[0m                            Traceback (most recent call last)",
      "\u001b[1;32m~\\AppData\\Local\\Temp/ipykernel_26684/289839766.py\u001b[0m in \u001b[0;36m<module>\u001b[1;34m\u001b[0m\n\u001b[0;32m      7\u001b[0m \u001b[0mprint\u001b[0m\u001b[1;33m(\u001b[0m\u001b[1;34m\"%.4f\"\u001b[0m \u001b[1;33m%\u001b[0m\u001b[0mn_ticks\u001b[0m\u001b[1;33m)\u001b[0m\u001b[1;33m\u001b[0m\u001b[1;33m\u001b[0m\u001b[0m\n\u001b[0;32m      8\u001b[0m \u001b[0mfig\u001b[0m\u001b[1;33m,\u001b[0m \u001b[0max\u001b[0m \u001b[1;33m=\u001b[0m \u001b[0mplt\u001b[0m\u001b[1;33m.\u001b[0m\u001b[0msubplots\u001b[0m\u001b[1;33m(\u001b[0m\u001b[1;33m)\u001b[0m\u001b[1;33m\u001b[0m\u001b[1;33m\u001b[0m\u001b[0m\n\u001b[1;32m----> 9\u001b[1;33m \u001b[0mS_full\u001b[0m\u001b[1;33m,\u001b[0m \u001b[0mphase\u001b[0m \u001b[1;33m=\u001b[0m \u001b[0mlibrosa\u001b[0m\u001b[1;33m.\u001b[0m\u001b[0mmagphase\u001b[0m\u001b[1;33m(\u001b[0m\u001b[0mlibrosa\u001b[0m\u001b[1;33m.\u001b[0m\u001b[0mstft\u001b[0m\u001b[1;33m(\u001b[0m\u001b[0mprediction\u001b[0m\u001b[1;33m[\u001b[0m\u001b[1;34m'vocals'\u001b[0m\u001b[1;33m]\u001b[0m\u001b[1;33m)\u001b[0m\u001b[1;33m)\u001b[0m\u001b[1;33m\u001b[0m\u001b[1;33m\u001b[0m\u001b[0m\n\u001b[0m\u001b[0;32m     10\u001b[0m img = librosa.display.specshow(librosa.amplitude_to_db(S_full, ref=np.max),\n\u001b[0;32m     11\u001b[0m                              y_axis='log', x_axis='time', sr=sr, ax=ax)\n",
      "\u001b[1;32m~\\AppData\\Roaming\\Python\\Python39\\site-packages\\librosa\\core\\spectrum.py\u001b[0m in \u001b[0;36mstft\u001b[1;34m(y, n_fft, hop_length, win_length, window, center, dtype, pad_mode)\u001b[0m\n\u001b[0;32m    215\u001b[0m \u001b[1;33m\u001b[0m\u001b[0m\n\u001b[0;32m    216\u001b[0m     \u001b[1;31m# Check audio is valid\u001b[0m\u001b[1;33m\u001b[0m\u001b[1;33m\u001b[0m\u001b[0m\n\u001b[1;32m--> 217\u001b[1;33m     \u001b[0mutil\u001b[0m\u001b[1;33m.\u001b[0m\u001b[0mvalid_audio\u001b[0m\u001b[1;33m(\u001b[0m\u001b[0my\u001b[0m\u001b[1;33m)\u001b[0m\u001b[1;33m\u001b[0m\u001b[1;33m\u001b[0m\u001b[0m\n\u001b[0m\u001b[0;32m    218\u001b[0m \u001b[1;33m\u001b[0m\u001b[0m\n\u001b[0;32m    219\u001b[0m     \u001b[1;31m# Pad the time series so that frames are centered\u001b[0m\u001b[1;33m\u001b[0m\u001b[1;33m\u001b[0m\u001b[0m\n",
      "\u001b[1;32m~\\AppData\\Roaming\\Python\\Python39\\site-packages\\librosa\\util\\utils.py\u001b[0m in \u001b[0;36mvalid_audio\u001b[1;34m(y, mono)\u001b[0m\n\u001b[0;32m    291\u001b[0m \u001b[1;33m\u001b[0m\u001b[0m\n\u001b[0;32m    292\u001b[0m     \u001b[1;32mif\u001b[0m \u001b[0mmono\u001b[0m \u001b[1;32mand\u001b[0m \u001b[0my\u001b[0m\u001b[1;33m.\u001b[0m\u001b[0mndim\u001b[0m \u001b[1;33m!=\u001b[0m \u001b[1;36m1\u001b[0m\u001b[1;33m:\u001b[0m\u001b[1;33m\u001b[0m\u001b[1;33m\u001b[0m\u001b[0m\n\u001b[1;32m--> 293\u001b[1;33m         raise ParameterError(\n\u001b[0m\u001b[0;32m    294\u001b[0m             \u001b[1;34m\"Invalid shape for monophonic audio: \"\u001b[0m\u001b[1;33m\u001b[0m\u001b[1;33m\u001b[0m\u001b[0m\n\u001b[0;32m    295\u001b[0m             \u001b[1;34m\"ndim={:d}, shape={}\"\u001b[0m\u001b[1;33m.\u001b[0m\u001b[0mformat\u001b[0m\u001b[1;33m(\u001b[0m\u001b[0my\u001b[0m\u001b[1;33m.\u001b[0m\u001b[0mndim\u001b[0m\u001b[1;33m,\u001b[0m \u001b[0my\u001b[0m\u001b[1;33m.\u001b[0m\u001b[0mshape\u001b[0m\u001b[1;33m)\u001b[0m\u001b[1;33m\u001b[0m\u001b[1;33m\u001b[0m\u001b[0m\n",
      "\u001b[1;31mParameterError\u001b[0m: Invalid shape for monophonic audio: ndim=2, shape=(11881472, 2)"
     ]
    },
    {
     "data": {
      "image/png": "[encoded data removed]",
      "text/plain": [
       "<Figure size 432x288 with 1 Axes>"
      ]
     },
     "metadata": {
      "needs_background": "light"
     },
     "output_type": "display_data"
    }
   ],
   "source": [
    "separator = Separator(f\"spleeter:2stems\")\n",
    "audio_loader = AudioAdapter.default()\n",
    "waveform, _ = audio_loader.load('piano.wav', sample_rate=RATE)\n",
    "m_ticks = time.time() \n",
    "prediction = separator.separate(waveform)\n",
    "n_ticks = time.time()-m_ticks\n",
    "print(\"%.4f\" %n_ticks)\n",
    "fig, ax = plt.subplots()\n",
    "S_full, phase = librosa.magphase(librosa.stft(prediction['vocals']))\n",
    "img = librosa.display.specshow(librosa.amplitude_to_db(S_full, ref=np.max),\n",
    "                             y_axis='log', x_axis='time', sr=sr, ax=ax)\n",
    "fig.colorbar(img, ax=ax)  \n",
    "    \n",
    "# ipd.Audio('short_one.wav') # load a local WAV file"
   ]
  },
  {
   "cell_type": "code",
   "execution_count": 78,
   "id": "1fc605fd",
   "metadata": {},
   "outputs": [
    {
     "data": {
      "text/plain": [
       "array([[ 0.        ,  0.        ],\n",
       "       [ 0.        ,  0.        ],\n",
       "       [ 0.        ,  0.        ],\n",
       "       ...,\n",
       "       [-0.00024414, -0.00015259],\n",
       "       [-0.00024414, -0.00015259],\n",
       "       [-0.00021362, -0.00012207]], dtype=float32)"
      ]
     },
     "execution_count": 78,
     "metadata": {},
     "output_type": "execute_result"
    }
   ],
   "source": [
    "waveform"
   ]
  }
 ],
 "metadata": {
  "kernelspec": {
   "display_name": "Python 3 (ipykernel)",
   "language": "python",
   "name": "python3"
  },
  "language_info": {
   "codemirror_mode": {
    "name": "ipython",
    "version": 3
   },
   "file_extension": ".py",
   "mimetype": "text/x-python",
   "name": "python",
   "nbconvert_exporter": "python",
   "pygments_lexer": "ipython3",
   "version": "3.9.7"
  }
 },
 "nbformat": 4,
 "nbformat_minor": 5
}
